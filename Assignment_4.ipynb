{
  "cells": [
    {
      "cell_type": "code",
      "execution_count": null,
      "metadata": {
        "id": "u1JCNZhsQyW1",
        "colab": {
          "base_uri": "https://localhost:8080/"
        },
        "outputId": "030ace94-5afd-4514-ab29-b9d2b9548bc7"
      },
      "outputs": [
        {
          "output_type": "stream",
          "name": "stdout",
          "text": [
            "--2022-12-07 19:45:23--  https://github.com/daniel-e/mnist_octave/blob/master/mnist.mat?raw=true\n",
            "Resolving github.com (github.com)... 20.27.177.113\n",
            "Connecting to github.com (github.com)|20.27.177.113|:443... connected.\n",
            "HTTP request sent, awaiting response... 302 Found\n",
            "Location: https://github.com/daniel-e/mnist_octave/raw/master/mnist.mat [following]\n",
            "--2022-12-07 19:45:24--  https://github.com/daniel-e/mnist_octave/raw/master/mnist.mat\n",
            "Reusing existing connection to github.com:443.\n",
            "HTTP request sent, awaiting response... 302 Found\n",
            "Location: https://raw.githubusercontent.com/daniel-e/mnist_octave/master/mnist.mat [following]\n",
            "--2022-12-07 19:45:24--  https://raw.githubusercontent.com/daniel-e/mnist_octave/master/mnist.mat\n",
            "Resolving raw.githubusercontent.com (raw.githubusercontent.com)... 185.199.108.133, 185.199.109.133, 185.199.110.133, ...\n",
            "Connecting to raw.githubusercontent.com (raw.githubusercontent.com)|185.199.108.133|:443... connected.\n",
            "HTTP request sent, awaiting response... 200 OK\n",
            "Length: 14278089 (14M) [application/octet-stream]\n",
            "Saving to: ‘mnist.mat?raw=true.5’\n",
            "\n",
            "mnist.mat?raw=true. 100%[===================>]  13.62M  --.-KB/s    in 0.1s    \n",
            "\n",
            "2022-12-07 19:45:24 (103 MB/s) - ‘mnist.mat?raw=true.5’ saved [14278089/14278089]\n",
            "\n",
            "'mnist.mat?raw=true'\t'mnist.mat?raw=true.3'\t sample_data\n",
            "'mnist.mat?raw=true.1'\t'mnist.mat?raw=true.4'\n",
            "'mnist.mat?raw=true.2'\t'mnist.mat?raw=true.5'\n"
          ]
        }
      ],
      "source": [
        "# #d.trainX is a (60000,784) matrix which contains the pixel data for training\n",
        "# #d.trainY is a (1,60000) matrix which contains the labels for the training data\n",
        "# #d.testX is a (10000,784) matrix which contains the pixel data for testing\n",
        "# #d.testY is a (1,10000) matrix which contains the labels for the test set\n",
        "!wget https://github.com/daniel-e/mnist_octave/blob/master/mnist.mat?raw=true\n",
        "!ls\n",
        "import numpy as np\n",
        "import matplotlib.pyplot as plt\n",
        "import scipy.io as sio\n",
        "from sklearn import metrics\n",
        "import operator\n",
        "from multiprocessing import Process\n",
        "from multiprocessing import Pool\n",
        "\n",
        "data = sio.loadmat('mnist.mat?raw=true')\n",
        "train_X = data['trainX'] / 255.0\n",
        "train_Y = data['trainY'][0]\n",
        "\n",
        "test_X = data['testX'] / 255.0\n",
        "test_Y = data['testY'][0]\n",
        "\n",
        "train_data = train_X[:10000]#(10000, 784)\n",
        "train_labels = train_Y[:len(train_data)]#(10000,)\n",
        "\n",
        "test_data = test_X[:1000]#(1000, 784)\n",
        "test_labels = test_Y[:len(test_data)]#(1000,)"
      ]
    },
    {
      "cell_type": "code",
      "source": [
        "print(\"train:\\n\",train_Y[0])\n",
        "plt.imshow(train_X[0].reshape((28, 28)))\n",
        "plt.show()\n",
        "\n",
        "print(\"test:\\n\", test_Y[0])\n",
        "plt.imshow(test_X[0].reshape((28, 28)))\n",
        "plt.show()\n",
        "\n",
        "#they are equal."
      ],
      "metadata": {
        "colab": {
          "base_uri": "https://localhost:8080/",
          "height": 582
        },
        "id": "uZ0rcLCeE3qA",
        "outputId": "4d55f64f-5315-472e-84e3-462b8fbc9e19"
      },
      "execution_count": null,
      "outputs": [
        {
          "output_type": "stream",
          "name": "stdout",
          "text": [
            "train:\n",
            " 5\n"
          ]
        },
        {
          "output_type": "display_data",
          "data": {
            "text/plain": [
              "<Figure size 432x288 with 1 Axes>"
            ],
            "image/png": "[encoded data removed]"
          },
          "metadata": {
            "needs_background": "light"
          }
        },
        {
          "output_type": "stream",
          "name": "stdout",
          "text": [
            "test:\n",
            " 7\n"
          ]
        },
        {
          "output_type": "display_data",
          "data": {
            "text/plain": [
              "<Figure size 432x288 with 1 Axes>"
            ],
            "image/png": "[encoded data removed]"
          },
          "metadata": {
            "needs_background": "light"
          }
        }
      ]
    },
    {
      "cell_type": "code",
      "source": [
        "def transform(data, M):\n",
        "  cov = np.cov(data.T)\n",
        "  eig_vals, eig_vecs  = np.linalg.eig(np.array(cov))\n",
        "  sorted_eig, eig_vecs = zip(*sorted(zip(list(eig_vals), list(eig_vecs.T)),key=lambda x: x[0], reverse=True))\n",
        "  eig_vecs = np.array(eig_vecs).T\n",
        "  M_transformed = eig_vecs[:,0:M]\n",
        "\n",
        "  projected_data = train_data.dot(M_transformed)\n",
        "  projected_test = test_data.dot(M_transformed)\n",
        "\n",
        "  return projected_data, projected_test"
      ],
      "metadata": {
        "id": "Bh6bLNMdHYyC"
      },
      "execution_count": null,
      "outputs": []
    },
    {
      "cell_type": "code",
      "source": [
        "def d(a, b):\n",
        "  return np.sqrt(np.sum((a - b)**2))"
      ],
      "metadata": {
        "id": "IR1hXUi-Hbtv"
      },
      "execution_count": null,
      "outputs": []
    },
    {
      "cell_type": "code",
      "source": [
        "def nearest_neighbor(given_img, K, data, label):\n",
        "  distance = [d(data[i], given_img) for i in range(len(data))]\n",
        "  sort = np.argpartition(distance, K)\n",
        "  class_num, count = np.unique(label[sort[:K]], return_counts=True)\n",
        "  return class_num[np.argmax(count)]"
      ],
      "metadata": {
        "id": "dBvG0oNCHehf"
      },
      "execution_count": null,
      "outputs": []
    },
    {
      "cell_type": "code",
      "source": [
        "accuracy_List = []\n",
        "def accuracy(train, train_lab, M):\n",
        "  for j in range(1, M+1):\n",
        "    count_correct = 0\n",
        "    count_wrong = 0\n",
        "    accuracy = 0\n",
        "    p_data, p_test = transform(train, j)\n",
        "    for i in range(1000):\n",
        "      class_num = nearest_neighbor(p_test[i], 5, p_data, train_labels)\n",
        "      if(class_num == test_labels[i]):\n",
        "        count_correct += 1\n",
        "      else:\n",
        "        count_wrong += 1\n",
        "    accuracy = (count_correct / (count_correct + count_wrong)) * 100\n",
        "    accuracy_List.append(accuracy)\n",
        "    print(\"correct: %d wrong: %d accuracy: %d percent M: %d\" % (count_correct, count_wrong, accuracy, j))"
      ],
      "metadata": {
        "id": "6tavmR-UHjF-"
      },
      "execution_count": null,
      "outputs": []
    },
    {
      "cell_type": "code",
      "execution_count": null,
      "metadata": {
        "colab": {
          "base_uri": "https://localhost:8080/"
        },
        "id": "S6sqVZxIQqoF",
        "outputId": "0ba32eb8-a021-46e1-e69c-395850ec2c21"
      },
      "outputs": [
        {
          "output_type": "stream",
          "name": "stdout",
          "text": [
            "correct: 273 wrong: 727 accuracy: 27 percent M: 1\n",
            "correct: 426 wrong: 574 accuracy: 42 percent M: 2\n",
            "correct: 491 wrong: 509 accuracy: 49 percent M: 3\n",
            "correct: 616 wrong: 384 accuracy: 61 percent M: 4\n",
            "correct: 708 wrong: 292 accuracy: 70 percent M: 5\n",
            "correct: 777 wrong: 223 accuracy: 77 percent M: 6\n",
            "correct: 843 wrong: 157 accuracy: 84 percent M: 7\n",
            "correct: 873 wrong: 127 accuracy: 87 percent M: 8\n",
            "correct: 885 wrong: 115 accuracy: 88 percent M: 9\n",
            "correct: 885 wrong: 115 accuracy: 88 percent M: 10\n",
            "correct: 894 wrong: 106 accuracy: 89 percent M: 11\n",
            "correct: 913 wrong: 87 accuracy: 91 percent M: 12\n",
            "correct: 917 wrong: 83 accuracy: 91 percent M: 13\n",
            "correct: 921 wrong: 79 accuracy: 92 percent M: 14\n",
            "correct: 921 wrong: 79 accuracy: 92 percent M: 15\n",
            "correct: 925 wrong: 75 accuracy: 92 percent M: 16\n",
            "correct: 929 wrong: 71 accuracy: 92 percent M: 17\n",
            "correct: 936 wrong: 64 accuracy: 93 percent M: 18\n",
            "correct: 939 wrong: 61 accuracy: 93 percent M: 19\n",
            "correct: 939 wrong: 61 accuracy: 93 percent M: 20\n",
            "correct: 939 wrong: 61 accuracy: 93 percent M: 21\n",
            "correct: 941 wrong: 59 accuracy: 94 percent M: 22\n",
            "correct: 937 wrong: 63 accuracy: 93 percent M: 23\n",
            "correct: 936 wrong: 64 accuracy: 93 percent M: 24\n",
            "correct: 937 wrong: 63 accuracy: 93 percent M: 25\n",
            "correct: 935 wrong: 65 accuracy: 93 percent M: 26\n",
            "correct: 933 wrong: 67 accuracy: 93 percent M: 27\n",
            "correct: 932 wrong: 68 accuracy: 93 percent M: 28\n",
            "correct: 938 wrong: 62 accuracy: 93 percent M: 29\n",
            "correct: 937 wrong: 63 accuracy: 93 percent M: 30\n"
          ]
        }
      ],
      "source": [
        "accuracy(train_data, train_labels, 30)"
      ]
    },
    {
      "cell_type": "code",
      "execution_count": null,
      "metadata": {
        "colab": {
          "base_uri": "https://localhost:8080/",
          "height": 279
        },
        "id": "Oa7crk9gQfsk",
        "outputId": "5d4cbcdd-88c9-4d95-92fd-af5c5ac9cc14"
      },
      "outputs": [
        {
          "output_type": "display_data",
          "data": {
            "text/plain": [
              "<Figure size 432x288 with 1 Axes>"
            ],
            "image/png": "[encoded data removed]"
          },
          "metadata": {
            "needs_background": "light"
          }
        }
      ],
      "source": [
        "principal_Components = list(range(1,31))\n",
        "plt.plot(principal_Components, accuracy_List)\n",
        "plt.ylabel(\"Accuracy\")\n",
        "plt.xlabel(\"Number of principal components\")\n",
        "plt.show()"
      ]
    }
  ],
  "metadata": {
    "colab": {
      "provenance": []
    },
    "kernelspec": {
      "display_name": "Python 3",
      "name": "python3"
    },
    "language_info": {
      "name": "python"
    }
  },
  "nbformat": 4,
  "nbformat_minor": 0
}