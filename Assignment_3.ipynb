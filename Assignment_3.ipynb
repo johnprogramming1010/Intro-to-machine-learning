{
  "nbformat": 4,
  "nbformat_minor": 0,
  "metadata": {
    "colab": {
      "provenance": []
    },
    "kernelspec": {
      "name": "python3",
      "display_name": "Python 3"
    },
    "language_info": {
      "name": "python"
    }
  },
  "cells": [
    {
      "cell_type": "code",
      "execution_count": null,
      "metadata": {
        "colab": {
          "base_uri": "https://localhost:8080/"
        },
        "id": "Mbb9Vyju2moX",
        "outputId": "75294cd7-82ac-4803-c949-4d86f0a55d85"
      },
      "outputs": [
        {
          "output_type": "stream",
          "name": "stdout",
          "text": [
            "--2022-11-28 01:33:09--  https://github.com/daniel-e/mnist_octave/blob/master/mnist.mat?raw=true\n",
            "Resolving github.com (github.com)... 192.30.255.112\n",
            "Connecting to github.com (github.com)|192.30.255.112|:443... connected.\n",
            "HTTP request sent, awaiting response... 302 Found\n",
            "Location: https://github.com/daniel-e/mnist_octave/raw/master/mnist.mat [following]\n",
            "--2022-11-28 01:33:09--  https://github.com/daniel-e/mnist_octave/raw/master/mnist.mat\n",
            "Reusing existing connection to github.com:443.\n",
            "HTTP request sent, awaiting response... 302 Found\n",
            "Location: https://raw.githubusercontent.com/daniel-e/mnist_octave/master/mnist.mat [following]\n",
            "--2022-11-28 01:33:09--  https://raw.githubusercontent.com/daniel-e/mnist_octave/master/mnist.mat\n",
            "Resolving raw.githubusercontent.com (raw.githubusercontent.com)... 185.199.108.133, 185.199.109.133, 185.199.110.133, ...\n",
            "Connecting to raw.githubusercontent.com (raw.githubusercontent.com)|185.199.108.133|:443... connected.\n",
            "HTTP request sent, awaiting response... 200 OK\n",
            "Length: 14278089 (14M) [application/octet-stream]\n",
            "Saving to: ‘mnist.mat?raw=true’\n",
            "\n",
            "mnist.mat?raw=true  100%[===================>]  13.62M  87.0MB/s    in 0.2s    \n",
            "\n",
            "2022-11-28 01:33:10 (87.0 MB/s) - ‘mnist.mat?raw=true’ saved [14278089/14278089]\n",
            "\n",
            "'mnist.mat?raw=true'   sample_data\n"
          ]
        }
      ],
      "source": [
        "#d.trainX is a (60000,784) matrix which contains the pixel data for training\n",
        "#d.trainY is a (1,60000) matrix which contains the labels for the training data\n",
        "#d.testX is a (10000,784) matrix which contains the pixel data for testing\n",
        "#d.testY is a (1,10000) matrix which contains the labels for the test set\n",
        "!wget https://github.com/daniel-e/mnist_octave/blob/master/mnist.mat?raw=true\n",
        "!ls\n",
        "import numpy as np\n",
        "import matplotlib.pyplot as plt\n",
        "import scipy.io as sio\n",
        "from sklearn import metrics\n",
        "import operator\n",
        "from multiprocessing import Process\n",
        "from multiprocessing import Pool"
      ]
    },
    {
      "cell_type": "code",
      "source": [
        "data = sio.loadmat('mnist.mat?raw=true')\n",
        "print(data)\n",
        "\n",
        "train_X = data['trainX']  # shape = (60000, 768)\n",
        "test_X = data['testX']  # shape = (10000, 784)\n",
        "\n",
        "train_Y = data['trainY'][0]  # shape = (1, 60000)\n",
        "test_Y = data['testY'][0]  # shape = (1, 10000)\n",
        "\n",
        "print(\"train:\\n\",train_Y[0])\n",
        "plt.imshow(train_X[0].reshape((28, 28)))\n",
        "plt.show()\n",
        "\n",
        "print(\"test:\\n\", test_Y[0])\n",
        "plt.imshow(test_X[0].reshape((28, 28)))\n",
        "plt.show()\n",
        "\n",
        "#they are equal."
      ],
      "metadata": {
        "colab": {
          "base_uri": "https://localhost:8080/",
          "height": 828
        },
        "id": "Qc58T3Sb2s77",
        "outputId": "f995e79b-1b03-471e-acbf-d2d9c660fc3d"
      },
      "execution_count": null,
      "outputs": [
        {
          "output_type": "stream",
          "name": "stdout",
          "text": [
            "{'__header__': b'MATLAB 5.0 MAT-file Platform: posix, Created on: Wed Oct 18 19:00:09 2017', '__version__': '1.0', '__globals__': [], 'testX': array([[0, 0, 0, ..., 0, 0, 0],\n",
            "       [0, 0, 0, ..., 0, 0, 0],\n",
            "       [0, 0, 0, ..., 0, 0, 0],\n",
            "       ...,\n",
            "       [0, 0, 0, ..., 0, 0, 0],\n",
            "       [0, 0, 0, ..., 0, 0, 0],\n",
            "       [0, 0, 0, ..., 0, 0, 0]], dtype=uint8), 'testY': array([[7, 2, 1, ..., 4, 5, 6]], dtype=uint8), 'trainY': array([[5, 0, 4, ..., 5, 6, 8]], dtype=uint8), 'trainX': array([[0, 0, 0, ..., 0, 0, 0],\n",
            "       [0, 0, 0, ..., 0, 0, 0],\n",
            "       [0, 0, 0, ..., 0, 0, 0],\n",
            "       ...,\n",
            "       [0, 0, 0, ..., 0, 0, 0],\n",
            "       [0, 0, 0, ..., 0, 0, 0],\n",
            "       [0, 0, 0, ..., 0, 0, 0]], dtype=uint8)}\n",
            "train:\n",
            " 5\n"
          ]
        },
        {
          "output_type": "display_data",
          "data": {
            "text/plain": [
              "<Figure size 432x288 with 1 Axes>"
            ],
            "image/png": "[encoded data removed]"
          },
          "metadata": {
            "needs_background": "light"
          }
        },
        {
          "output_type": "stream",
          "name": "stdout",
          "text": [
            "test:\n",
            " 7\n"
          ]
        },
        {
          "output_type": "display_data",
          "data": {
            "text/plain": [
              "<Figure size 432x288 with 1 Axes>"
            ],
            "image/png": "[encoded data removed]"
          },
          "metadata": {
            "needs_background": "light"
          }
        }
      ]
    },
    {
      "cell_type": "code",
      "source": [
        "def d(a, b):\n",
        "  return np.sqrt(np.sum((a - b)**2))"
      ],
      "metadata": {
        "id": "UK5QqgHR26u6"
      },
      "execution_count": null,
      "outputs": []
    },
    {
      "cell_type": "code",
      "source": [
        "def get_K_nearest_neighbors(X, x, k):\n",
        "  distances = np.array([d(X[i], x) for i in range(10000)])\n",
        "  indices = np.argsort(distances)\n",
        "  return train_Y[indices[:k]]\n",
        "\n",
        "conf = np.zeros((10, 10))\n",
        "def task(i):\n",
        "  predicted_label = int(np.median(get_K_nearest_neighbors(train_X, test_X[i, :], 1)))\n",
        "  true_label = test_Y[i]\n",
        "  conf[true_label, predicted_label] += 1\n",
        "  return (true_label, predicted_label)\n",
        "\n",
        "with Pool() as pool:\n",
        "  for result in pool.imap(task, range(100)):\n",
        "    conf[result[0], result[1]] += 1\n",
        "\n",
        "accuracy = np.sum([conf[i, i] for i in range(10)])/np.sum(np.sum(conf))\n",
        "\n",
        "print(\"overall accuracy:\", accuracy)"
      ],
      "metadata": {
        "colab": {
          "base_uri": "https://localhost:8080/"
        },
        "id": "MpjkoUKD5OUu",
        "outputId": "935ce232-e30c-4797-c915-56888a3244cf"
      },
      "execution_count": null,
      "outputs": [
        {
          "output_type": "stream",
          "name": "stdout",
          "text": [
            "overall accuracy: 0.28\n"
          ]
        }
      ]
    },
    {
      "cell_type": "code",
      "source": [
        "#graph 1\n",
        "#200 test samples\n",
        "#changing training samples\n",
        "#1000=0.23%\n",
        "#2000=0.235%\n",
        "#3000=0.24%\n",
        "#4000=0.26%\n",
        "#5000=0.27%\n",
        "\n",
        "training = [1000, 2000, 3000, 4000, 5000]\n",
        "percent_Correct = [0.23, 0.235, 0.24, 0.26,  0.27]\n",
        "\n",
        "plt.plot(training, percent_Correct)\n",
        "plt.xlabel(\"Training size\")\n",
        "plt.ylabel(\"Percent Correct\")\n",
        "plt.show()"
      ],
      "metadata": {
        "colab": {
          "base_uri": "https://localhost:8080/",
          "height": 279
        },
        "id": "Lqt-PsC_Ga7B",
        "outputId": "9a832720-e3ea-4bbb-8d4d-0e1b339fa7c4"
      },
      "execution_count": null,
      "outputs": [
        {
          "output_type": "display_data",
          "data": {
            "text/plain": [
              "<Figure size 432x288 with 1 Axes>"
            ],
            "image/png": "[encoded data removed]"
          },
          "metadata": {
            "needs_background": "light"
          }
        }
      ]
    },
    {
      "cell_type": "code",
      "source": [
        "#graph 2\n",
        "#1000 training samples\n",
        "#changing test samples\n",
        "#250=0.22%\n",
        "#500=0.214%\n",
        "#1000=0.213%\n",
        "#1500=0.19733333333333333%\n",
        "#2000=0.1915%\n",
        "\n",
        "test = [250, 500, 1000, 1500, 2000]\n",
        "percent_Correct2 = [0.22, 0.214, 0.213, 0.19733, 0.1915]\n",
        "\n",
        "plt.plot(test, percent_Correct2)\n",
        "plt.xlabel(\"Test size\")\n",
        "plt.ylabel(\"Percent Correct\")\n",
        "plt.show()"
      ],
      "metadata": {
        "colab": {
          "base_uri": "https://localhost:8080/",
          "height": 279
        },
        "id": "n-t9sR7V2VII",
        "outputId": "286d0443-da30-472a-a715-529dfcc74ff7"
      },
      "execution_count": null,
      "outputs": [
        {
          "output_type": "display_data",
          "data": {
            "text/plain": [
              "<Figure size 432x288 with 1 Axes>"
            ],
            "image/png": "[encoded data removed]"
          },
          "metadata": {
            "needs_background": "light"
          }
        }
      ]
    },
    {
      "cell_type": "code",
      "source": [
        "#graph 3\n",
        "#30000 training samples\n",
        "#200 test samples\n",
        "#k=1 percent=0.26%\n",
        "#k=5 percent=0.245%\n",
        "#k=10 percent=0.23%\n",
        "#k=15 percent=0.225%\n",
        "#k=20 percent=0.215%\n",
        "# when more distances are \n",
        "k = [1, 5, 10, 15, 20]\n",
        "percent = [0.26, 0.245, 0.23, 0.225, 0.215]\n",
        "\n",
        "plt.plot(k, percent)\n",
        "plt.xlabel(\"K\")\n",
        "plt.ylabel(\"Percent Correct\")\n",
        "plt.show()"
      ],
      "metadata": {
        "colab": {
          "base_uri": "https://localhost:8080/",
          "height": 279
        },
        "id": "btO7EZjO9Abx",
        "outputId": "cf8adbcc-db4b-409d-e609-cd40defd1824"
      },
      "execution_count": null,
      "outputs": [
        {
          "output_type": "display_data",
          "data": {
            "text/plain": [
              "<Figure size 432x288 with 1 Axes>"
            ],
            "image/png": "[encoded data removed]"
          },
          "metadata": {
            "needs_background": "light"
          }
        }
      ]
    },
    {
      "cell_type": "code",
      "source": [
        "#graph 4\n",
        "plt.imshow(conf, cmap='jet')\n",
        "plt.colorbar()\n",
        "\n",
        "!pip install parfor"
      ],
      "metadata": {
        "colab": {
          "base_uri": "https://localhost:8080/",
          "height": 372
        },
        "id": "kV7P4yNJqHoL",
        "outputId": "8f160516-c213-44ef-9d78-e543778daf40"
      },
      "execution_count": null,
      "outputs": [
        {
          "output_type": "stream",
          "name": "stdout",
          "text": [
            "Looking in indexes: https://pypi.org/simple, https://us-python.pkg.dev/colab-wheels/public/simple/\n",
            "Requirement already satisfied: parfor in /usr/local/lib/python3.7/dist-packages (2022.6.0)\n",
            "Requirement already satisfied: psutil in /usr/local/lib/python3.7/dist-packages (from parfor) (5.4.8)\n",
            "Requirement already satisfied: tqdm>=4.50.0 in /usr/local/lib/python3.7/dist-packages (from parfor) (4.64.1)\n",
            "Requirement already satisfied: dill>=0.3.0 in /usr/local/lib/python3.7/dist-packages (from parfor) (0.3.6)\n"
          ]
        },
        {
          "output_type": "display_data",
          "data": {
            "text/plain": [
              "<Figure size 432x288 with 2 Axes>"
            ],
            "image/png": "[encoded data removed]"
          },
          "metadata": {
            "needs_background": "light"
          }
        }
      ]
    }
  ]
}