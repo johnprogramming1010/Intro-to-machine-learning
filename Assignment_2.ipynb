{
  "nbformat": 4,
  "nbformat_minor": 0,
  "metadata": {
    "colab": {
      "provenance": []
    },
    "kernelspec": {
      "name": "python3",
      "display_name": "Python 3"
    },
    "language_info": {
      "name": "python"
    }
  },
  "cells": [
    {
      "cell_type": "code",
      "execution_count": null,
      "metadata": {
        "id": "4kcAAoBTaIpx"
      },
      "outputs": [],
      "source": [
        "!wget https://raw.githubusercontent.com/tasdikrahman/datasets/master/email/csv/spam-apache.csv\n",
        "import numpy as np\n",
        "import pandas as pd\n",
        "import nltk \n",
        "import matplotlib.pyplot as plt\n",
        "from sklearn import metrics\n",
        "\n",
        "nltk.download('stopwords')\n",
        "\n",
        "pd_data = pd.read_csv(\"spam-apache.csv\", header=None)\n",
        "test = pd_data.to_numpy()\n",
        "emails = test[:, 1]\n",
        "labels = np.array(test[:, 0], dtype='int16')\n",
        "\n",
        "\n",
        "train_set = test[:250, :]\n",
        "\n",
        "spam_emails = train_set[train_set[:, 0]==-1, 1]\n",
        "real_emails = train_set[train_set[:, 0]==1, 1]\n",
        "\n",
        "bias = np.log(len(spam_emails) / len(real_emails))\n",
        "test"
      ]
    },
    {
      "cell_type": "code",
      "source": [
        "labels_indices = np.array((labels+1) / 2, dtype=int)\n",
        "processed_words = {}"
      ],
      "metadata": {
        "id": "O7aTq1MeM5ZU"
      },
      "execution_count": null,
      "outputs": []
    },
    {
      "cell_type": "code",
      "source": [
        "def processed_Words(size):\n",
        "  train_set1 = train_set[:size, :]\n",
        "  labels_indices = np.array((labels+1) / 2, dtype=int)\n",
        "  processed_words = {}\n",
        "\n",
        "  for i in range(size):\n",
        "    label = labels_indices[i]\n",
        "    words = emails[i].replace(',',' ').replace('.',' ').replace('\\n',' ').replace('<br>',' ').split(' ')\n",
        "    for word in words:\n",
        "          if(word.isalpha() == True):\n",
        "            if(word in processed_words):\n",
        "              processed_words[word][label] += 1\n",
        "            else:\n",
        "              processed_words[word] = [0, 0]\n",
        "              processed_words[word][label] = 1\n",
        "  #loops through the processed words and applies the probability of each word\n",
        "  for key in processed_words:\n",
        "    sum = processed_words[key][0] + processed_words[key][1]\n",
        "    processed_words[key][0] = processed_words[key][0] / sum\n",
        "    processed_words[key][1] = processed_words[key][1] / sum\n",
        "    #removes the possibility of 0 values. \n",
        "    if(processed_words[key][0] == 1):\n",
        "      processed_words[key] = (1,0.00001)\n",
        "    if(processed_words[key][1] == 1):\n",
        "      processed_words[key] = (0.00001, 1)\n",
        "\n",
        "  #goes through the processed words and removes common words.\n",
        "  stop_Words = nltk.corpus.stopwords.words('english')\n",
        "  relevant_Words = [word for word in processed_words if word not in stop_Words]\n",
        "\n",
        "  #goes through processed words and returns words with a useful probability.\n",
        "  useful_words = {}\n",
        "  for word in processed_words:\n",
        "    if (processed_words[word][1] <= 0.4 or processed_words[word][1] >= 0.6):\n",
        "      useful_words[word] = processed_words[word]\n",
        "  \n",
        "  #goes through useful words with probabilty and removes words that aren't useful, EX: or, and, in... and adds it to useful_Relevent_Words.\n",
        "  useful_Relevent_Words = {}\n",
        "  for word in useful_words:\n",
        "    if(word in relevant_Words):\n",
        "      useful_Relevent_Words[word] = useful_words[word]\n",
        "  \n",
        "  #applys baeyes regression\n",
        "  emails_test = emails[size:]\n",
        "  projected_Output = np.array(test[size:250, 0], dtype='int16')\n",
        "  actual_Output = []\n",
        "\n",
        "  for email in emails_test:\n",
        "    a = bias\n",
        "    observed_words=[]\n",
        "    words = email.replace(',',' ').replace('.',' ').replace('\\n',' ').replace('<BR>',' ').split(' ')\n",
        "    for word1 in words:\n",
        "      observed_words.append(word1)\n",
        "      if(word1.isalpha() == True):\n",
        "        for word in observed_words:\n",
        "          if word in useful_Relevent_Words:\n",
        "            a += np.log(useful_Relevent_Words[word][1] / useful_Relevent_Words[word][0])\n",
        "    actual_Output.append(a)\n",
        "  return actual_Output"
      ],
      "metadata": {
        "id": "oa-NSedKM77B"
      },
      "execution_count": null,
      "outputs": []
    },
    {
      "cell_type": "code",
      "source": [
        "#changes the value of processed_words to have only 1s and -1s\n",
        "def Change(a):\n",
        "  change = a\n",
        "  Ones = []\n",
        "  for value in change:\n",
        "    if (value > 0):\n",
        "      Ones.append(1)\n",
        "    if(value < 0):\n",
        "      Ones.append(-1)\n",
        "  return Ones"
      ],
      "metadata": {
        "id": "fll04G68jnHj"
      },
      "execution_count": null,
      "outputs": []
    },
    {
      "cell_type": "code",
      "source": [
        "def Count(a, size):\n",
        "  actual_Output = a\n",
        "  projected_Output = np.array(test[size:250, 0], dtype='int16')\n",
        "\n",
        "  #gets false positive, true positive, false negative, true negative\n",
        "  true_Positive = 0  \n",
        "  false_Positive = 0\n",
        "  true_Negative = 0\n",
        "  false_Negative = 0\n",
        "\n",
        "  for i in range(250-size):\n",
        "    if projected_Output[i] == 1:\n",
        "      if actual_Output[i] > 0:\n",
        "        true_Positive += 1\n",
        "      else:\n",
        "        false_Negative += 1\n",
        "    if projected_Output[i] == -1:\n",
        "      if actual_Output[i] < 0:\n",
        "        true_Negative += 1\n",
        "      else:\n",
        "        false_Positive += 1\n",
        "  return true_Positive, false_Positive, true_Negative, false_Negative"
      ],
      "metadata": {
        "id": "-BvrOFH2v65E"
      },
      "execution_count": null,
      "outputs": []
    },
    {
      "cell_type": "code",
      "source": [
        "size1 = 50\n",
        "projected_Output1 = np.array(test[size1:250, 0], dtype='int16')\n",
        "value1 = processed_Words(size1)\n",
        "new_Value1 = Change(value1)\n",
        "true_Positive1, false_Positive1, true_Negative1, false_Negative1 = Count(value1, size1)\n",
        "Percent1 = ((true_Positive1+true_Negative1)/(250-size1)*100);\n",
        "\n",
        "\n",
        "print(\"Sampling size:\", size1)\n",
        "print(\"True Positive:\", true_Positive1)\n",
        "print(\"True Negative:\", true_Negative1)\n",
        "print(\"False Positive:\", false_Positive1)\n",
        "print(\"False Negative:\", false_Negative1)\n",
        "print(\"Percent correct: %\", Percent1)\n",
        "\n",
        "confusion_matrix1 = metrics.confusion_matrix(projected_Output1, new_Value1)\n",
        "\n",
        "cm_display1 = metrics.ConfusionMatrixDisplay(confusion_matrix = confusion_matrix1, display_labels = [False, True])\n",
        "\n",
        "cm_display1.plot()\n",
        "plt.show()"
      ],
      "metadata": {
        "colab": {
          "base_uri": "https://localhost:8080/",
          "height": 383
        },
        "id": "Ug-xMNurbT3Z",
        "outputId": "2d527e50-ac66-4d78-9ce8-ce4ae961226e"
      },
      "execution_count": null,
      "outputs": [
        {
          "output_type": "stream",
          "name": "stdout",
          "text": [
            "Sampling size: 50\n",
            "True Positive: 69\n",
            "True Negative: 99\n",
            "False Positive: 1\n",
            "False Negative: 31\n",
            "Percent correct: % 84.0\n"
          ]
        },
        {
          "output_type": "display_data",
          "data": {
            "text/plain": [
              "<Figure size 432x288 with 2 Axes>"
            ],
            "image/png": "[encoded data removed]"
          },
          "metadata": {
            "needs_background": "light"
          }
        }
      ]
    },
    {
      "cell_type": "code",
      "source": [
        "size2 = 100\n",
        "projected_Output2 = np.array(test[size2:250, 0], dtype='int16')\n",
        "value2 = processed_Words(size2)\n",
        "new_Value2 = Change(value2)\n",
        "true_Positive2, false_Positive2, true_Negative2, false_Negative2 = Count(value2, size2)\n",
        "Percent2 = ((true_Positive2+true_Negative2)/(250-size2)*100);\n",
        "\n",
        "\n",
        "print(\"Sampling size:\", size2)\n",
        "print(\"True Positive:\", true_Positive2)\n",
        "print(\"True Negative:\", true_Negative2)\n",
        "print(\"False Positive:\", false_Positive2)\n",
        "print(\"False Negative:\", false_Negative2)\n",
        "print(\"Percent correct: %\", Percent2)\n",
        "\n",
        "confusion_matrix2 = metrics.confusion_matrix(projected_Output2, new_Value2)\n",
        "\n",
        "cm_display2 = metrics.ConfusionMatrixDisplay(confusion_matrix = confusion_matrix2, display_labels = [False, True])\n",
        "\n",
        "cm_display2.plot()\n",
        "plt.show()"
      ],
      "metadata": {
        "colab": {
          "base_uri": "https://localhost:8080/",
          "height": 383
        },
        "id": "afKKV7hD1S9u",
        "outputId": "1631849a-3bbe-4867-e9d8-c2bb6954c968"
      },
      "execution_count": null,
      "outputs": [
        {
          "output_type": "stream",
          "name": "stdout",
          "text": [
            "Sampling size: 100\n",
            "True Positive: 56\n",
            "True Negative: 72\n",
            "False Positive: 1\n",
            "False Negative: 21\n",
            "Percent correct: % 85.33333333333334\n"
          ]
        },
        {
          "output_type": "display_data",
          "data": {
            "text/plain": [
              "<Figure size 432x288 with 2 Axes>"
            ],
            "image/png": "[encoded data removed]"
          },
          "metadata": {
            "needs_background": "light"
          }
        }
      ]
    },
    {
      "cell_type": "code",
      "source": [
        "size3 = 150\n",
        "projected_Output3 = np.array(test[size3:250, 0], dtype='int16')\n",
        "value3 = processed_Words(size3)\n",
        "new_Value3 = Change(value3)\n",
        "true_Positive3, false_Positive3, true_Negative3, false_Negative3 = Count(value3, size3)\n",
        "Percent3 = ((true_Positive3+true_Negative3)/(250-size3)*100);\n",
        "\n",
        "\n",
        "print(\"Sampling size:\", size3)\n",
        "print(\"True Positive:\", true_Positive3)\n",
        "print(\"True Negative:\", true_Negative3)\n",
        "print(\"False Positive:\", false_Positive3)\n",
        "print(\"False Negative:\", false_Negative3)\n",
        "print(\"Percent correct: %\",(true_Positive3+true_Negative3)/(250-size3)*100)\n",
        "\n",
        "confusion_matrix3 = metrics.confusion_matrix(projected_Output3, new_Value3)\n",
        "\n",
        "cm_display3 = metrics.ConfusionMatrixDisplay(confusion_matrix = confusion_matrix3, display_labels = [False, True])\n",
        "\n",
        "cm_display3.plot()\n",
        "plt.show()"
      ],
      "metadata": {
        "colab": {
          "base_uri": "https://localhost:8080/",
          "height": 383
        },
        "id": "M0LA23R31e8z",
        "outputId": "7b0dc12d-87fe-48c4-b066-d12b5d0782b8"
      },
      "execution_count": null,
      "outputs": [
        {
          "output_type": "stream",
          "name": "stdout",
          "text": [
            "Sampling size: 150\n",
            "True Positive: 46\n",
            "True Negative: 46\n",
            "False Positive: 1\n",
            "False Negative: 7\n",
            "Percent correct: % 92.0\n"
          ]
        },
        {
          "output_type": "display_data",
          "data": {
            "text/plain": [
              "<Figure size 432x288 with 2 Axes>"
            ],
            "image/png": "[encoded data removed]"
          },
          "metadata": {
            "needs_background": "light"
          }
        }
      ]
    },
    {
      "cell_type": "code",
      "source": [
        "size4 = 200\n",
        "projected_Output4 = np.array(test[size4:250, 0], dtype='int16')\n",
        "value4 = processed_Words(size4)\n",
        "new_Value4 = Change(value4)\n",
        "true_Positive4, false_Positive4, true_Negative4, false_Negative4 = Count(value4, size4)\n",
        "Percent4 = ((true_Positive4+true_Negative4)/(250-size4)*100);\n",
        "\n",
        "\n",
        "print(\"Sampling size:\", size4)\n",
        "print(\"True Positive:\", true_Positive4)\n",
        "print(\"True Negative:\", true_Negative4)\n",
        "print(\"False Positive:\", false_Positive4)\n",
        "print(\"False Negative:\", false_Negative4)\n",
        "print(\"Percent correct: %\", Percent4)\n",
        "confusion_matrix4 = metrics.confusion_matrix(projected_Output4, new_Value4)\n",
        "\n",
        "cm_display4 = metrics.ConfusionMatrixDisplay(confusion_matrix = confusion_matrix4, display_labels = [False, True])\n",
        "\n",
        "cm_display4.plot()\n",
        "plt.show()"
      ],
      "metadata": {
        "colab": {
          "base_uri": "https://localhost:8080/",
          "height": 387
        },
        "id": "eEK7GPVS1sQv",
        "outputId": "f5402175-d6cc-4847-948d-8679fdcc3987"
      },
      "execution_count": null,
      "outputs": [
        {
          "output_type": "stream",
          "name": "stdout",
          "text": [
            "Sampling size: 200\n",
            "True Positive: 25\n",
            "True Negative: 23\n",
            "False Positive: 1\n",
            "False Negative: 1\n",
            "Percent correct: % 96.0\n"
          ]
        },
        {
          "output_type": "display_data",
          "data": {
            "text/plain": [
              "<Figure size 432x288 with 2 Axes>"
            ],
            "image/png": "[encoded data removed]"
          },
          "metadata": {
            "needs_background": "light"
          }
        }
      ]
    },
    {
      "cell_type": "code",
      "source": [
        "size5 = 221\n",
        "projected_Output5 = np.array(test[size5:250, 0], dtype='int16')\n",
        "value5 = processed_Words(size5)\n",
        "new_Value5 = Change(value5)\n",
        "true_Positive5, false_Positive5, true_Negative5, false_Negative5 = Count(value5, size5)\n",
        "Percent5 = ((true_Positive5+true_Negative5)/(250-size5)*100);\n",
        "\n",
        "\n",
        "print(\"Sampling size:\", size5)\n",
        "print(\"True Positive:\", true_Positive5)\n",
        "print(\"True Negative:\", true_Negative5)\n",
        "print(\"False Positive:\", false_Positive5)\n",
        "print(\"False Negative:\", false_Negative5)\n",
        "print(\"Percent correct: %\", Percent5)\n",
        "\n",
        "confusion_matrix5 = metrics.confusion_matrix(projected_Output5, new_Value5)\n",
        "\n",
        "cm_display5 = metrics.ConfusionMatrixDisplay(confusion_matrix = confusion_matrix5, display_labels = [False, True])\n",
        "\n",
        "cm_display5.plot()\n",
        "plt.show()"
      ],
      "metadata": {
        "colab": {
          "base_uri": "https://localhost:8080/",
          "height": 387
        },
        "id": "-8gmUaVwYM6z",
        "outputId": "720f3231-31a2-4e30-c2d8-628a16bf7d43"
      },
      "execution_count": null,
      "outputs": [
        {
          "output_type": "stream",
          "name": "stdout",
          "text": [
            "Sampling size: 221\n",
            "True Positive: 16\n",
            "True Negative: 13\n",
            "False Positive: 0\n",
            "False Negative: 0\n",
            "Percent correct: % 100.0\n"
          ]
        },
        {
          "output_type": "display_data",
          "data": {
            "text/plain": [
              "<Figure size 432x288 with 2 Axes>"
            ],
            "image/png": "[encoded data removed]"
          },
          "metadata": {
            "needs_background": "light"
          }
        }
      ]
    },
    {
      "cell_type": "code",
      "source": [
        "size = np.array([size1, size2, size3, size4, size5])\n",
        "percent_Correct = np.array([Percent1, Percent2, Percent3, Percent4, Percent5])\n",
        "\n",
        "plt.plot(size, percent_Correct)\n",
        "plt.xlabel(\"Sample's tested\")\n",
        "plt.ylabel(\"Percent Correct\")"
      ],
      "metadata": {
        "colab": {
          "base_uri": "https://localhost:8080/",
          "height": 296
        },
        "id": "_ZVPwUtqEYlw",
        "outputId": "182c117a-d2cd-43aa-e3ac-3a066bd497ea"
      },
      "execution_count": null,
      "outputs": [
        {
          "output_type": "execute_result",
          "data": {
            "text/plain": [
              "Text(0, 0.5, 'Percent Correct')"
            ]
          },
          "metadata": {},
          "execution_count": 14
        },
        {
          "output_type": "display_data",
          "data": {
            "text/plain": [
              "<Figure size 432x288 with 1 Axes>"
            ],
            "image/png": "[encoded data removed]"
          },
          "metadata": {
            "needs_background": "light"
          }
        }
      ]
    }
  ]
}